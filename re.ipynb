{
 "cells": [
  {
   "cell_type": "markdown",
   "id": "deac30b6-fa38-46d1-8b3c-8a18b3f595e6",
   "metadata": {},
   "source": [
    "정규 표현식 - youtube조코딩, 점프투파이썬"
   ]
  },
  {
   "cell_type": "markdown",
   "id": "012ca379-b3db-4964-a5ff-7c9fa64a5d1f",
   "metadata": {},
   "source": [
    "1. 문자 클래스 []\n",
    "[abc]\n",
    "- []사이의 문자들과 매치\n",
    "- \"a\"는 정규식과 일치하는 문자인 \"a\"가 있으므로 매치\n",
    "- \"before\"는 정규식과 일치하는 문자인 \"b\"가 있으므로 매치\n",
    "- \"dude\"는 정규힉과 일치하는 문자인 a,b,c 중 어느 하나도 포함하고 있지 않으므로 매치되지 않음\n",
    "- 하이픈을 사용하여 from-to로 표현 가능하다. ex) [a-c] = [abc], [0,5] = [012345]\n"
   ]
  },
  {
   "cell_type": "markdown",
   "id": "557999b9-8137-4869-9b79-10d78322c05c",
   "metadata": {},
   "source": [
    "2. Dot(.)\n",
    "a.b\n",
    "- 줄바꿈(\\n)을 제외한 모든 문자와 매치\n",
    "- \"aab\"는 가운데 \"a\"가 모든 문자를 의미하는 '.'과 일치하므로 정규식과 매치\n",
    "- \"a0b\"는 가운데 문자 \"0\"가 모든 문자를 의미하는 '.'과 일치하므로 정규식과 매치\n",
    "- \"abc\"는 \"a\"문자와 \"b\"문자 사이에 어던 문자라도 하나는 있어야 하는 이 정규식과 일치하지 않으므로 매치되지 않는다. "
   ]
  },
  {
   "cell_type": "markdown",
   "id": "1b0d2825-c370-4220-b01f-557bcf453973",
   "metadata": {},
   "source": [
    "3. 반복 (*)\n",
    "ca*t\n",
    "- \"ct\"는 \"a\"가 0번 반복되어 매치\n",
    "- \"cat\"는 \"a\"가 0번 이상 반복되어 매치(1번 반복)\n",
    "- \"caaat\"는 \"a\"가 0번 이상 반복되어 매치(3번 반복)"
   ]
  },
  {
   "cell_type": "markdown",
   "id": "64e8358d-21d0-448e-bc8d-4bb129e63118",
   "metadata": {},
   "source": [
    "4. 반복 (+)\n",
    "ca+t\n",
    "- \"ct\"는 \"a\"가 0번 반복되어 매치되지 않음\n",
    "- \"cat\"는 \"a\"가 1번 이상 반복되어 매치(1번 반복)\n",
    "- \"caaat\"는 \"a\"가 1번 이상 반복되어 매치(3번 반복)"
   ]
  },
  {
   "cell_type": "markdown",
   "id": "e55c979f-30e3-47b9-af72-74902a43678e",
   "metadata": {},
   "source": [
    "5. 반복({m,n},?)\n",
    "ca{2}t\n",
    "- \"cat\"는 \"a\"가 1번만 반복되어 매치되지 않음\n",
    "- \"caat\"는 \"a\"가 2번 반복되어 매치\n",
    "\n",
    "ca{2,5}t\n",
    "- \"cat\"는 \"a\"가 1번만 반복되어 매치되지 않음\n",
    "- \"caat\"는 \"a\"가 2번 반복되어 매치\n",
    "- \"caaaaat\"는 \"a\"가 5번 반복되어 매치\n",
    "\n",
    "ab?c -> ? == {0,1}\n",
    "- \"abc\"는 \"b\"가 1번 사용되어 매치\n",
    "- \"ac\"는 \"b\"가 0번 사용되어 매치\n",
    "- ?는 {0,1}과 같은 표현"
   ]
  },
  {
   "cell_type": "code",
   "execution_count": 7,
   "id": "46df3d6f-dc70-4409-93a5-e5303db7e477",
   "metadata": {},
   "outputs": [
    {
     "name": "stdout",
     "output_type": "stream",
     "text": [
      "<re.Match object; span=(0, 6), match='python'>\n"
     ]
    }
   ],
   "source": [
    "#match\n",
    "import re\n",
    "p = re.compile('[a-z]+')\n",
    "m = p.match('python')\n",
    "print(m)"
   ]
  },
  {
   "cell_type": "code",
   "execution_count": 15,
   "id": "23d2d16e-9836-4e7e-b08e-d81c663b29aa",
   "metadata": {},
   "outputs": [
    {
     "name": "stdout",
     "output_type": "stream",
     "text": [
      "python\n",
      "0\n",
      "6\n",
      "(0, 6)\n"
     ]
    }
   ],
   "source": [
    "#match 객체의 메소드\n",
    "# 1. group() 매치된 문자열 리턴\n",
    "# 2. start() 매치된 문자열의 시작 위치 리턴\n",
    "# 3. end()   매치된 문자열의 시작 끝 리턴\n",
    "# 4. span()  매치된 문자열의 (시작, 끝)에 해당되는 튜플 리턴\n",
    "\n",
    "import re\n",
    "p = re.compile('[a-z]+')\n",
    "m = p.match('python')\n",
    "print(m.group())\n",
    "print(m.start())\n",
    "print(m.end())\n",
    "print(m.span())"
   ]
  },
  {
   "cell_type": "code",
   "execution_count": 9,
   "id": "e0c82b95-e7c2-4d63-87d7-89f21d663b43",
   "metadata": {},
   "outputs": [
    {
     "name": "stdout",
     "output_type": "stream",
     "text": [
      "<re.Match object; span=(2, 8), match='python'>\n"
     ]
    }
   ],
   "source": [
    "#search\n",
    "import re\n",
    "p = re.compile('[a-z]+')\n",
    "m = p.search('3 python')\n",
    "print(m)"
   ]
  },
  {
   "cell_type": "code",
   "execution_count": 11,
   "id": "e51b148e-18ff-43c8-b299-88470bacfd15",
   "metadata": {},
   "outputs": [
    {
     "name": "stdout",
     "output_type": "stream",
     "text": [
      "['life', 'is', 'too', 'short']\n"
     ]
    }
   ],
   "source": [
    "#findall\n",
    "import re\n",
    "p = re.compile('[a-z]+')\n",
    "m = p.findall('life is too short')\n",
    "print(m)"
   ]
  },
  {
   "cell_type": "code",
   "execution_count": 13,
   "id": "9370cb71-a854-45c5-9292-a1fa1ddd0c18",
   "metadata": {},
   "outputs": [
    {
     "name": "stdout",
     "output_type": "stream",
     "text": [
      "<re.Match object; span=(0, 4), match='life'>\n",
      "<re.Match object; span=(5, 7), match='is'>\n",
      "<re.Match object; span=(8, 11), match='too'>\n",
      "<re.Match object; span=(12, 17), match='short'>\n"
     ]
    }
   ],
   "source": [
    "#finditer\n",
    "import re\n",
    "p = re.compile('[a-z]+')\n",
    "m = p.finditer('life is too short')\n",
    "for i in m :\n",
    "    print(i)"
   ]
  },
  {
   "cell_type": "code",
   "execution_count": 18,
   "id": "cdf51d91-3286-41df-96ba-112aa0b6b37e",
   "metadata": {},
   "outputs": [
    {
     "name": "stdout",
     "output_type": "stream",
     "text": [
      "None\n",
      "<re.Match object; span=(0, 3), match='a\\nb'>\n"
     ]
    }
   ],
   "source": [
    "#컴파일 옵션\n",
    "#DOTALL, S - 줄바꿈 문자도 match 포함\n",
    "import re\n",
    "p = re.compile('a.b')\n",
    "m = p.match('a\\nb')\n",
    "print(m)\n",
    "\n",
    "p = re.compile('a.b', re.S) # re.S == re.DOTALL \n",
    "m = p.match('a\\nb')\n",
    "print(m)\n"
   ]
  },
  {
   "cell_type": "code",
   "execution_count": 20,
   "id": "4318beb2-aa1a-4028-bf3b-d8774ccc390d",
   "metadata": {},
   "outputs": [
    {
     "name": "stdout",
     "output_type": "stream",
     "text": [
      "<re.Match object; span=(0, 1), match='p'>\n",
      "<re.Match object; span=(0, 1), match='P'>\n",
      "<re.Match object; span=(0, 1), match='P'>\n"
     ]
    }
   ],
   "source": [
    "#컴파일 옵션 \n",
    "#IGNORECASE, I - 대소문자 무시하여 match\n",
    "import re\n",
    "p = re.compile('[a-z]', re.I)\n",
    "print(p.match('python'))\n",
    "print(p.match('Python'))\n",
    "print(p.match('PYTHON'))"
   ]
  },
  {
   "cell_type": "code",
   "execution_count": 22,
   "id": "3462d25a-7208-434f-bf80-87f9a0b89a18",
   "metadata": {},
   "outputs": [
    {
     "name": "stdout",
     "output_type": "stream",
     "text": [
      "['python one', 'python two', 'python three']\n"
     ]
    }
   ],
   "source": [
    "#컴파일 옵션 \n",
    "#MULTILINE, M - ^ (^python은 맨처음에 python이 오는 문장)를 맨 처음 라인만 적용 시키는게 아닌 여러줄을 인식 시킴\n",
    "import re\n",
    "p = re.compile(\"^python\\s\\w+\", re.M)\n",
    "\n",
    "data = \"\"\"python one\n",
    "life is to short\n",
    "python two\n",
    "you need python\n",
    "python three\"\"\"\n",
    "\n",
    "print(p.findall(data))"
   ]
  },
  {
   "cell_type": "code",
   "execution_count": 25,
   "id": "663796d5-e039-444b-8b9e-58e151d538ee",
   "metadata": {},
   "outputs": [
    {
     "name": "stdout",
     "output_type": "stream",
     "text": [
      "re.compile('\\n&[#]               #start of a numeric entity reference\\n(\\n    0[0-7]+ \\n    [0-9]+\\n    [x[0-9a-fA-F]+\\n)\\n;\\n', re.VERBOSE)\n"
     ]
    }
   ],
   "source": [
    "#컴파일 옵션 \n",
    "#VERBOSE, X\n",
    "import re\n",
    "charref = re.compile(r'&[#](0[0-7]+[0-9]+[x[0-9a-fA-F]+);')\n",
    "charref = re.compile(r\"\"\"\n",
    "&[#] \n",
    "(\n",
    "    0[0-7]+ \n",
    "    [0-9]+\n",
    "    [x[0-9a-fA-F]+\n",
    ")\n",
    ";\n",
    "\"\"\", re.X)"
   ]
  },
  {
   "cell_type": "code",
   "execution_count": 30,
   "id": "0aa09fec-6981-4ffa-b5a7-8285a4d4bdf8",
   "metadata": {},
   "outputs": [
    {
     "name": "stdout",
     "output_type": "stream",
     "text": [
      "re.compile('\\\\\\\\section')\n"
     ]
    }
   ],
   "source": [
    "#백슬래시 문제\n",
    "import re\n",
    "p = re.compile('\\\\section')\n",
    "p = re.compile('\\\\\\\\section')\n",
    "p = re.compile(r'\\\\section')\n",
    "print(p)"
   ]
  },
  {
   "cell_type": "code",
   "execution_count": 31,
   "id": "65e8e192-a966-48ba-bc3a-1b9b9eb4a6bd",
   "metadata": {},
   "outputs": [
    {
     "name": "stdout",
     "output_type": "stream",
     "text": [
      "<re.Match object; span=(0, 4), match='Crow'>\n"
     ]
    }
   ],
   "source": [
    "#메타문자 |\n",
    "import re\n",
    "p = re.compile('Crow|Servo')\n",
    "m = p.match('CrowHello')\n",
    "print(m)"
   ]
  },
  {
   "cell_type": "code",
   "execution_count": 33,
   "id": "27b01542-86a5-42bf-84f2-a4fd78392ec7",
   "metadata": {},
   "outputs": [
    {
     "name": "stdout",
     "output_type": "stream",
     "text": [
      "<re.Match object; span=(0, 4), match='Life'>\n",
      "None\n"
     ]
    }
   ],
   "source": [
    "#메타문자 ^\n",
    "import re\n",
    "print(re.search('^Life', 'Life is too short'))\n",
    "print(re.search('^Life', 'My Life'))"
   ]
  },
  {
   "cell_type": "code",
   "execution_count": 34,
   "id": "a09ebd5c-3f6f-4134-ad44-b2226cf91e10",
   "metadata": {},
   "outputs": [
    {
     "name": "stdout",
     "output_type": "stream",
     "text": [
      "<re.Match object; span=(12, 17), match='short'>\n",
      "None\n"
     ]
    }
   ],
   "source": [
    "#메타문자 $\n",
    "import re\n",
    "print(re.search('short$', 'Life is too short'))\n",
    "print(re.search('short$', 'Life is too short, you need python'))"
   ]
  },
  {
   "cell_type": "code",
   "execution_count": 35,
   "id": "06e38c22-6a49-48b8-a8c0-531a0b2a7454",
   "metadata": {},
   "outputs": [
    {
     "name": "stdout",
     "output_type": "stream",
     "text": [
      "<re.Match object; span=(3, 8), match='class'>\n",
      "None\n",
      "None\n"
     ]
    }
   ],
   "source": [
    "#메타문자 \\b\n",
    "import re\n",
    "p = re.compile(r'\\bclass\\b')\n",
    "print(p.search('no class at all'))\n",
    "print(p.search('the declassified algorithm'))\n",
    "print(p.search('one subclass is'))"
   ]
  },
  {
   "cell_type": "code",
   "execution_count": 40,
   "id": "fb879f31-d948-4ead-a195-c56af25fadc4",
   "metadata": {},
   "outputs": [
    {
     "name": "stdout",
     "output_type": "stream",
     "text": [
      "<re.Match object; span=(0, 9), match='ABCABCABC'>\n",
      "ABCABCABC\n"
     ]
    }
   ],
   "source": [
    "#그루핑 () - 1\n",
    "import re\n",
    "p = re.compile('(ABC)+')\n",
    "m = p.search('ABCABCABC OK?')\n",
    "print(m)\n",
    "print(m.group())"
   ]
  },
  {
   "cell_type": "code",
   "execution_count": 38,
   "id": "e8d01f4e-96b2-49fe-b722-87e728abd847",
   "metadata": {},
   "outputs": [
    {
     "name": "stdout",
     "output_type": "stream",
     "text": [
      "park\n"
     ]
    }
   ],
   "source": [
    "#그루핑 () - 2\n",
    "import re\n",
    "p = re.compile(r\"(\\w+)\\s+\\d+[-]\\d+[-]\\d+\")\n",
    "m = p.search(\"park 010-1234-1234\")\n",
    "print(m.group(1))"
   ]
  },
  {
   "cell_type": "code",
   "execution_count": 39,
   "id": "9a5d0eb5-8b46-4e13-b172-4bebe49d5798",
   "metadata": {},
   "outputs": [
    {
     "name": "stdout",
     "output_type": "stream",
     "text": [
      "the the\n"
     ]
    }
   ],
   "source": [
    "#그루핑 () - 3\n",
    "import re\n",
    "p = re.compile(r'(\\b\\w+)\\s+\\1')\n",
    "print(p.search('Paris in the the spring').group())"
   ]
  },
  {
   "cell_type": "code",
   "execution_count": 58,
   "id": "ecebf9c8-e8ed-43f6-8cb6-237c76723973",
   "metadata": {},
   "outputs": [
    {
     "name": "stdout",
     "output_type": "stream",
     "text": [
      "park\n"
     ]
    }
   ],
   "source": [
    "#그루핑 () - 4 그루핑된 문자열에 이름 붙이기 ?P<name> - 1\n",
    "import re\n",
    "p = re.compile(r\"(?P<name>\\w+)\\s+((\\d+)[-]\\d+[-]\\d+)\")\n",
    "m = p.search(\"park 010-1234-1234\")\n",
    "print(m.group(\"name\"))"
   ]
  },
  {
   "cell_type": "code",
   "execution_count": 57,
   "id": "070f9928-51ad-4b08-8999-26ff9ca49886",
   "metadata": {},
   "outputs": [
    {
     "name": "stdout",
     "output_type": "stream",
     "text": [
      "the the\n"
     ]
    }
   ],
   "source": [
    "#그루핑 () - 4 그루핑된 문자열에 이름 붙이기 ?P<name> - 2\n",
    "import re\n",
    "p = re.compile(r'(?P<word>\\b\\w+)\\s+(?P=word)')\n",
    "print(p.search('Paris in the the spring').group())"
   ]
  },
  {
   "cell_type": "code",
   "execution_count": 60,
   "id": "a9850b7b-e1cb-40ad-8626-6f90c50555bc",
   "metadata": {},
   "outputs": [
    {
     "name": "stdout",
     "output_type": "stream",
     "text": [
      "http\n"
     ]
    }
   ],
   "source": [
    "#전방탐색 : 긍정형(?=)\n",
    "import re\n",
    "p = re.compile(\".+(?=:)\")\n",
    "m = p.search(\"http://google.com\")\n",
    "print(m.group())"
   ]
  },
  {
   "cell_type": "code",
   "execution_count": 63,
   "id": "e4f0f161-cc9f-41b3-accb-3133a01fd693",
   "metadata": {},
   "outputs": [
    {
     "name": "stdout",
     "output_type": "stream",
     "text": [
      "['autoexec.jpg']\n"
     ]
    }
   ],
   "source": [
    "#전방탐색 : 부정형(?!)\n",
    "import re\n",
    "p = re.compile(\".*[.](?!bat$|exe$).*$\", re.M)\n",
    "l = p.findall(\"\"\"\n",
    "autoexec.exe\n",
    "autoexec.bat\n",
    "autoexec.jpg\n",
    "\"\"\")\n",
    "print(l)"
   ]
  },
  {
   "cell_type": "code",
   "execution_count": 65,
   "id": "a5699175-bb9d-4b78-8a9c-dc027984a140",
   "metadata": {},
   "outputs": [
    {
     "data": {
      "text/plain": [
       "'color socks and color shoes'"
      ]
     },
     "execution_count": 65,
     "metadata": {},
     "output_type": "execute_result"
    }
   ],
   "source": [
    "#문자열 바꾸기 sub\n",
    "import re\n",
    "p = re.compile('(blue|white|red)')\n",
    "p.sub('color', 'blue socks and red shoes')"
   ]
  },
  {
   "cell_type": "code",
   "execution_count": 67,
   "id": "8db73540-7923-4b27-8454-1f22fcb6990d",
   "metadata": {},
   "outputs": [
    {
     "name": "stdout",
     "output_type": "stream",
     "text": [
      "<html><head><title>Title</title>\n",
      "<html>\n"
     ]
    }
   ],
   "source": [
    "#Greedy vs Non-Greedy\n",
    "import re\n",
    "s = '<html><head><title>Title</title>'\n",
    "print(re.match('<.*>', s).group())    #Greedy\n",
    "print(re.match('<.*?>', s).group())  #Non-Greedy "
   ]
  },
  {
   "cell_type": "code",
   "execution_count": null,
   "id": "4f47fe6d-48c9-4c10-9ac9-aa93047fd3b4",
   "metadata": {},
   "outputs": [],
   "source": []
  }
 ],
 "metadata": {
  "kernelspec": {
   "display_name": "Python 3.10.2 64-bit",
   "language": "python",
   "name": "python3"
  },
  "language_info": {
   "codemirror_mode": {
    "name": "ipython",
    "version": 3
   },
   "file_extension": ".py",
   "mimetype": "text/x-python",
   "name": "python",
   "nbconvert_exporter": "python",
   "pygments_lexer": "ipython3",
   "version": "3.10.2"
  },
  "vscode": {
   "interpreter": {
    "hash": "aee8b7b246df8f9039afb4144a1f6fd8d2ca17a180786b69acc140d282b71a49"
   }
  }
 },
 "nbformat": 4,
 "nbformat_minor": 5
}
